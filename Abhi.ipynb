{
 "cells": [
  {
   "cell_type": "code",
   "execution_count": 2,
   "metadata": {},
   "outputs": [
    {
     "name": "stdout",
     "output_type": "stream",
     "text": [
      "Name:-Abhishek Patil\n",
      "Location:-Pune\n",
      "Department:-Computer\n",
      "The sum of 1.5 and 6.3 is 7.8\n"
     ]
    }
   ],
   "source": [
    "\n",
    "\n",
    "    print('Name:-Abhishek Patil')\n",
    "    print('Location:-Pune')\n",
    "    print('Department:-Computer')\n",
    "\n",
    "    \n",
    "\n",
    "    num1 = 1.5\n",
    "    num2 = 6.3\n",
    "\n",
    "    sum = num1 + num2\n",
    "\n",
    "\n",
    "    print('The sum of {0} and {1} is {2}'.format(num1, num2, sum))\n",
    "\n",
    "\n"
   ]
  },
  {
   "cell_type": "code",
   "execution_count": null,
   "metadata": {},
   "outputs": [],
   "source": []
  }
 ],
 "metadata": {
  "kernelspec": {
   "display_name": "Python 3",
   "language": "python",
   "name": "python3"
  },
  "language_info": {
   "codemirror_mode": {
    "name": "ipython",
    "version": 3
   },
   "file_extension": ".py",
   "mimetype": "text/x-python",
   "name": "python",
   "nbconvert_exporter": "python",
   "pygments_lexer": "ipython3",
   "version": "3.8.3"
  }
 },
 "nbformat": 4,
 "nbformat_minor": 4
}
